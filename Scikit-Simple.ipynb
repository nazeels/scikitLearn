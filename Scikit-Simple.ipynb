{
 "cells": [
  {
   "cell_type": "code",
   "execution_count": 1,
   "metadata": {},
   "outputs": [],
   "source": [
    "from sklearn import linear_model"
   ]
  },
  {
   "cell_type": "code",
   "execution_count": 2,
   "metadata": {},
   "outputs": [
    {
     "name": "stdout",
     "output_type": "stream",
     "text": [
      "height weight\n",
      "4.0 -> 42\n",
      "4.5 -> 44\n",
      "5.0 -> 49\n",
      "5.2 -> 55\n",
      "5.4 -> 53\n",
      "5.8 -> 58\n",
      "6.1 -> 60\n",
      "6.2 -> 64\n",
      "6.4 -> 66\n",
      "6.8 -> 69\n"
     ]
    }
   ],
   "source": [
    "height=[[4.0],[4.5],[5.0],[5.2],[5.4],[5.8],[6.1],[6.2],[6.4],[6.8]]\n",
    "weight=[  42 ,  44 , 49, 55  , 53  , 58   , 60  , 64  ,  66 ,  69]\n",
    "print(\"height weight\")\n",
    "for row in zip(height, weight):\n",
    "    print(row[0][0],\"->\",row[1])"
   ]
  },
  {
   "cell_type": "code",
   "execution_count": 3,
   "metadata": {},
   "outputs": [
    {
     "data": {
      "text/plain": [
       "Text(0,0.5,'weight')"
      ]
     },
     "execution_count": 3,
     "metadata": {},
     "output_type": "execute_result"
    }
   ],
   "source": [
    "import matplotlib.pyplot as plt\n",
    "plt.scatter(height,weight,color='black')\n",
    "plt.xlabel(\"height\")\n",
    "plt.ylabel(\"weight\")"
   ]
  },
  {
   "cell_type": "code",
   "execution_count": 4,
   "metadata": {},
   "outputs": [
    {
     "data": {
      "text/plain": [
       "LinearRegression(copy_X=True, fit_intercept=True, n_jobs=1, normalize=False)"
      ]
     },
     "execution_count": 4,
     "metadata": {},
     "output_type": "execute_result"
    }
   ],
   "source": [
    "#applying linear regression\n",
    "reg=linear_model.LinearRegression()\n",
    "reg.fit(height,weight)"
   ]
  },
  {
   "cell_type": "code",
   "execution_count": 19,
   "metadata": {},
   "outputs": [
    {
     "name": "stdout",
     "output_type": "stream",
     "text": [
      "slope= 10.1936218679 intercept= -0.472665148064\n"
     ]
    },
    {
     "data": {
      "image/png": "[encoded data removed]",
      "text/plain": [
       "<matplotlib.figure.Figure at 0x7f6fa2596ac8>"
      ]
     },
     "metadata": {},
     "output_type": "display_data"
    }
   ],
   "source": [
    "#slope and intercept (y=b+mx)\n",
    "def plotGraph(m, b):\n",
    "    import matplotlib.pyplot as pltTmp\n",
    "    pltTmp.scatter(height,weight,color='black')\n",
    "    pltTmp.xlabel(\"height\")\n",
    "    pltTmp.ylabel(\"weight\")\n",
    "    print(\"slope=\",m, \"intercept=\",b)\n",
    "    pltTmp.scatter(height,weight,color='black')\n",
    "    predicted_values = [reg.coef_ * i + reg.intercept_ for i in height]\n",
    "    pltTmp.plot(height, predicted_values, 'b')\n",
    "    pltTmp.xlabel(\"height\")\n",
    "    pltTmp.ylabel(\"weight\")\n",
    "    \n",
    "m=reg.coef_[0]\n",
    "b=reg.intercept_\n",
    "plotGraph(m,b)"
   ]
  },
  {
   "cell_type": "code",
   "execution_count": null,
   "metadata": {},
   "outputs": [],
   "source": [
    "#SGDRegression"
   ]
  },
  {
   "cell_type": "code",
   "execution_count": 8,
   "metadata": {},
   "outputs": [
    {
     "data": {
      "text/plain": [
       "SGDRegressor(alpha=0.0001, average=False, epsilon=0.1, eta0=0.01,\n",
       "       fit_intercept=True, l1_ratio=0.15, learning_rate='invscaling',\n",
       "       loss='squared_loss', n_iter=5, penalty='l2', power_t=0.25,\n",
       "       random_state=None, shuffle=True, verbose=0, warm_start=False)"
      ]
     },
     "execution_count": 8,
     "metadata": {},
     "output_type": "execute_result"
    }
   ],
   "source": [
    "sgdReg = linear_model.SGDRegressor()\n",
    "sgdReg.fit(height,weight)"
   ]
  },
  {
   "cell_type": "code",
   "execution_count": 20,
   "metadata": {},
   "outputs": [
    {
     "name": "stdout",
     "output_type": "stream",
     "text": [
      "===== SGD Regression values \n",
      "Coefficient:  [ 9.74804357]\n",
      "Intercept: [ 1.78493966]\n",
      "slope= 9.74804357295 intercept= [ 1.78493966]\n"
     ]
    },
    {
     "data": {
      "image/png": "[encoded data removed]",
      "text/plain": [
       "<matplotlib.figure.Figure at 0x7f6fa26b5be0>"
      ]
     },
     "metadata": {},
     "output_type": "display_data"
    }
   ],
   "source": [
    "print(\"===== SGD Regression values \")\n",
    "print(\"Coefficient:  \" + str(sgdReg.coef_))\n",
    "print(\"Intercept: \" + str(sgdReg.intercept_))\n",
    "m=sgdReg.coef_[0]\n",
    "b=sgdReg.intercept_\n",
    "plotGraph(m,b)"
   ]
  },
  {
   "cell_type": "code",
   "execution_count": 13,
   "metadata": {},
   "outputs": [
    {
     "name": "stdout",
     "output_type": "stream",
     "text": [
      "===== Linear Regression values \n",
      "Coefficient:  [ 10.19362187]\n",
      "Intercept: -0.472665148064\n"
     ]
    }
   ],
   "source": [
    "print(\"===== Linear Regression values \")\n",
    "print(\"Coefficient:  \" + str(reg.coef_))\n",
    "print(\"Intercept: \" + str(reg.intercept_))"
   ]
  }
 ],
 "metadata": {
  "kernelspec": {
   "display_name": "Python 3",
   "language": "python",
   "name": "python3"
  },
  "language_info": {
   "codemirror_mode": {
    "name": "ipython",
    "version": 3
   },
   "file_extension": ".py",
   "mimetype": "text/x-python",
   "name": "python",
   "nbconvert_exporter": "python",
   "pygments_lexer": "ipython3",
   "version": "3.6.4"
  }
 },
 "nbformat": 4,
 "nbformat_minor": 2
}
